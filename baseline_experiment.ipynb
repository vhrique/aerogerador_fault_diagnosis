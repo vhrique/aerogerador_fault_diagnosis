{
  "nbformat": 4,
  "nbformat_minor": 0,
  "metadata": {
    "colab": {
      "provenance": [],
      "mount_file_id": "https://github.com/vhrique/aerogerador_fault_diagnosis/blob/main/baseline_experiment.ipynb",
      "authorship_tag": "ABX9TyPgV4maldhDgEZdMV5O8bjs",
      "include_colab_link": true
    },
    "kernelspec": {
      "name": "python3",
      "display_name": "Python 3"
    },
    "language_info": {
      "name": "python"
    }
  },
  "cells": [
    {
      "cell_type": "markdown",
      "metadata": {
        "id": "view-in-github",
        "colab_type": "text"
      },
      "source": [
        "<a href=\"https://colab.research.google.com/github/vhrique/aerogerador_fault_diagnosis/blob/main/baseline_experiment.ipynb\" target=\"_parent\"><img src=\"https://colab.research.google.com/assets/colab-badge.svg\" alt=\"Open In Colab\"/></a>"
      ]
    },
    {
      "cell_type": "code",
      "source": [
        "!pip install pymoo"
      ],
      "metadata": {
        "colab": {
          "base_uri": "https://localhost:8080/"
        },
        "id": "wZ1FE-16HkGM",
        "outputId": "1eb3aa0e-88fd-443c-f84c-be3ca0ad9c9f"
      },
      "execution_count": 2,
      "outputs": [
        {
          "output_type": "stream",
          "name": "stdout",
          "text": [
            "Collecting pymoo\n",
            "  Downloading pymoo-0.6.1.3-cp310-cp310-manylinux_2_17_x86_64.manylinux2014_x86_64.whl.metadata (5.0 kB)\n",
            "Requirement already satisfied: numpy>=1.15 in /usr/local/lib/python3.10/dist-packages (from pymoo) (1.26.4)\n",
            "Requirement already satisfied: scipy>=1.1 in /usr/local/lib/python3.10/dist-packages (from pymoo) (1.13.1)\n",
            "Requirement already satisfied: matplotlib>=3 in /usr/local/lib/python3.10/dist-packages (from pymoo) (3.7.1)\n",
            "Requirement already satisfied: autograd>=1.4 in /usr/local/lib/python3.10/dist-packages (from pymoo) (1.6.2)\n",
            "Collecting cma==3.2.2 (from pymoo)\n",
            "  Downloading cma-3.2.2-py2.py3-none-any.whl.metadata (8.0 kB)\n",
            "Collecting alive-progress (from pymoo)\n",
            "  Downloading alive_progress-3.1.5-py3-none-any.whl.metadata (68 kB)\n",
            "\u001b[2K     \u001b[90m━━━━━━━━━━━━━━━━━━━━━━━━━━━━━━━━━━━━━━━━\u001b[0m \u001b[32m68.4/68.4 kB\u001b[0m \u001b[31m769.8 kB/s\u001b[0m eta \u001b[36m0:00:00\u001b[0m\n",
            "\u001b[?25hCollecting dill (from pymoo)\n",
            "  Downloading dill-0.3.8-py3-none-any.whl.metadata (10 kB)\n",
            "Collecting Deprecated (from pymoo)\n",
            "  Downloading Deprecated-1.2.14-py2.py3-none-any.whl.metadata (5.4 kB)\n",
            "Requirement already satisfied: future>=0.15.2 in /usr/local/lib/python3.10/dist-packages (from autograd>=1.4->pymoo) (1.0.0)\n",
            "Requirement already satisfied: contourpy>=1.0.1 in /usr/local/lib/python3.10/dist-packages (from matplotlib>=3->pymoo) (1.2.1)\n",
            "Requirement already satisfied: cycler>=0.10 in /usr/local/lib/python3.10/dist-packages (from matplotlib>=3->pymoo) (0.12.1)\n",
            "Requirement already satisfied: fonttools>=4.22.0 in /usr/local/lib/python3.10/dist-packages (from matplotlib>=3->pymoo) (4.53.1)\n",
            "Requirement already satisfied: kiwisolver>=1.0.1 in /usr/local/lib/python3.10/dist-packages (from matplotlib>=3->pymoo) (1.4.5)\n",
            "Requirement already satisfied: packaging>=20.0 in /usr/local/lib/python3.10/dist-packages (from matplotlib>=3->pymoo) (24.1)\n",
            "Requirement already satisfied: pillow>=6.2.0 in /usr/local/lib/python3.10/dist-packages (from matplotlib>=3->pymoo) (9.4.0)\n",
            "Requirement already satisfied: pyparsing>=2.3.1 in /usr/local/lib/python3.10/dist-packages (from matplotlib>=3->pymoo) (3.1.2)\n",
            "Requirement already satisfied: python-dateutil>=2.7 in /usr/local/lib/python3.10/dist-packages (from matplotlib>=3->pymoo) (2.8.2)\n",
            "Collecting about-time==4.2.1 (from alive-progress->pymoo)\n",
            "  Downloading about_time-4.2.1-py3-none-any.whl.metadata (13 kB)\n",
            "Collecting grapheme==0.6.0 (from alive-progress->pymoo)\n",
            "  Downloading grapheme-0.6.0.tar.gz (207 kB)\n",
            "\u001b[2K     \u001b[90m━━━━━━━━━━━━━━━━━━━━━━━━━━━━━━━━━━━━━━━━\u001b[0m \u001b[32m207.3/207.3 kB\u001b[0m \u001b[31m2.5 MB/s\u001b[0m eta \u001b[36m0:00:00\u001b[0m\n",
            "\u001b[?25h  Preparing metadata (setup.py) ... \u001b[?25l\u001b[?25hdone\n",
            "Requirement already satisfied: wrapt<2,>=1.10 in /usr/local/lib/python3.10/dist-packages (from Deprecated->pymoo) (1.16.0)\n",
            "Requirement already satisfied: six>=1.5 in /usr/local/lib/python3.10/dist-packages (from python-dateutil>=2.7->matplotlib>=3->pymoo) (1.16.0)\n",
            "Downloading pymoo-0.6.1.3-cp310-cp310-manylinux_2_17_x86_64.manylinux2014_x86_64.whl (4.2 MB)\n",
            "\u001b[2K   \u001b[90m━━━━━━━━━━━━━━━━━━━━━━━━━━━━━━━━━━━━━━━━\u001b[0m \u001b[32m4.2/4.2 MB\u001b[0m \u001b[31m23.5 MB/s\u001b[0m eta \u001b[36m0:00:00\u001b[0m\n",
            "\u001b[?25hDownloading cma-3.2.2-py2.py3-none-any.whl (249 kB)\n",
            "\u001b[2K   \u001b[90m━━━━━━━━━━━━━━━━━━━━━━━━━━━━━━━━━━━━━━━━\u001b[0m \u001b[32m249.1/249.1 kB\u001b[0m \u001b[31m4.8 MB/s\u001b[0m eta \u001b[36m0:00:00\u001b[0m\n",
            "\u001b[?25hDownloading alive_progress-3.1.5-py3-none-any.whl (75 kB)\n",
            "\u001b[2K   \u001b[90m━━━━━━━━━━━━━━━━━━━━━━━━━━━━━━━━━━━━━━━━\u001b[0m \u001b[32m76.0/76.0 kB\u001b[0m \u001b[31m4.7 MB/s\u001b[0m eta \u001b[36m0:00:00\u001b[0m\n",
            "\u001b[?25hDownloading about_time-4.2.1-py3-none-any.whl (13 kB)\n",
            "Downloading Deprecated-1.2.14-py2.py3-none-any.whl (9.6 kB)\n",
            "Downloading dill-0.3.8-py3-none-any.whl (116 kB)\n",
            "\u001b[2K   \u001b[90m━━━━━━━━━━━━━━━━━━━━━━━━━━━━━━━━━━━━━━━━\u001b[0m \u001b[32m116.3/116.3 kB\u001b[0m \u001b[31m6.4 MB/s\u001b[0m eta \u001b[36m0:00:00\u001b[0m\n",
            "\u001b[?25hBuilding wheels for collected packages: grapheme\n",
            "  Building wheel for grapheme (setup.py) ... \u001b[?25l\u001b[?25hdone\n",
            "  Created wheel for grapheme: filename=grapheme-0.6.0-py3-none-any.whl size=210082 sha256=d1d227f14d683041ca67de09ff310785e0cfbfd841beeddfcd032ef212325e02\n",
            "  Stored in directory: /root/.cache/pip/wheels/01/e1/49/37e6bde9886439057450c494a79b0bef8bbe897a54aebfc757\n",
            "Successfully built grapheme\n",
            "Installing collected packages: grapheme, dill, Deprecated, cma, about-time, alive-progress, pymoo\n",
            "Successfully installed Deprecated-1.2.14 about-time-4.2.1 alive-progress-3.1.5 cma-3.2.2 dill-0.3.8 grapheme-0.6.0 pymoo-0.6.1.3\n"
          ]
        }
      ]
    },
    {
      "cell_type": "code",
      "execution_count": 64,
      "metadata": {
        "id": "yGbdNYqiU1oH"
      },
      "outputs": [],
      "source": [
        "import matplotlib.pyplot as plt\n",
        "import numpy as np\n",
        "import pandas as pd\n",
        "\n",
        "from pymoo.algorithms.moo.nsga2 import NSGA2\n",
        "from pymoo.core.problem import Problem\n",
        "from pymoo.decomposition.asf import ASF\n",
        "from pymoo.optimize import minimize\n",
        "from pymoo.termination import get_termination\n",
        "\n",
        "from sklearn.ensemble import RandomForestClassifier\n",
        "from sklearn.metrics import classification_report\n",
        "from sklearn.model_selection import KFold, train_test_split\n",
        "from sklearn.preprocessing import OrdinalEncoder"
      ]
    },
    {
      "cell_type": "markdown",
      "source": [
        "# Load Data"
      ],
      "metadata": {
        "id": "3IFkx6VMIQ1U"
      }
    },
    {
      "cell_type": "code",
      "source": [
        "df_features = pd.read_csv('/content/drive/MyDrive/Estudos/Datasets/pas_aerogerador_helon/X10.csv', header=None)\n",
        "df_labels = pd.read_csv('/content/drive/MyDrive/Estudos/Datasets/pas_aerogerador_helon/y_case2.csv', header=None)"
      ],
      "metadata": {
        "id": "pHKkCt-dVbP3"
      },
      "execution_count": 6,
      "outputs": []
    },
    {
      "cell_type": "code",
      "source": [
        "X = df_features.to_numpy()\n",
        "y = df_labels.to_numpy().squeeze()"
      ],
      "metadata": {
        "id": "qDVog3ZBm6fY"
      },
      "execution_count": 10,
      "outputs": []
    },
    {
      "cell_type": "markdown",
      "source": [
        "# RandomForest Experiment"
      ],
      "metadata": {
        "id": "ElUONEngIVa9"
      }
    },
    {
      "cell_type": "code",
      "source": [
        "y_pred = y.copy()\n",
        "\n",
        "for i, (train_index, test_index) in enumerate(KFold(n_splits=5, shuffle=True).split(X)):\n",
        "    X_train, y_train = X[train_index], y[train_index]\n",
        "    X_test = X[test_index]\n",
        "    mdl = RandomForestClassifier().fit(X_train, y_train)\n",
        "    y_pred[test_index] = mdl.predict(X_test)"
      ],
      "metadata": {
        "id": "R6VAOAwQm1ph"
      },
      "execution_count": 23,
      "outputs": []
    },
    {
      "cell_type": "code",
      "source": [
        "print(\n",
        "    classification_report(\n",
        "        y, y_pred\n",
        "    )\n",
        ")"
      ],
      "metadata": {
        "colab": {
          "base_uri": "https://localhost:8080/"
        },
        "id": "I5XR_VAMnRoS",
        "outputId": "ac965685-a48c-46c0-8c1a-ef74b13bccb5"
      },
      "execution_count": 24,
      "outputs": [
        {
          "output_type": "stream",
          "name": "stdout",
          "text": [
            "              precision    recall  f1-score   support\n",
            "\n",
            "         0.0       1.00      0.99      0.99       143\n",
            "         1.0       1.00      1.00      1.00       144\n",
            "         2.0       1.00      1.00      1.00       144\n",
            "         3.0       0.99      0.98      0.98       144\n",
            "         4.0       0.97      0.98      0.98       199\n",
            "         5.0       0.98      0.96      0.97       168\n",
            "         6.0       0.99      1.00      1.00       162\n",
            "         7.0       1.00      0.99      1.00       150\n",
            "         8.0       1.00      1.00      1.00       156\n",
            "         9.0       1.00      1.00      1.00       155\n",
            "        10.0       1.00      1.00      1.00       157\n",
            "        11.0       1.00      1.00      1.00       152\n",
            "        12.0       1.00      1.00      1.00       528\n",
            "\n",
            "    accuracy                           0.99      2402\n",
            "   macro avg       0.99      0.99      0.99      2402\n",
            "weighted avg       0.99      0.99      0.99      2402\n",
            "\n"
          ]
        }
      ]
    },
    {
      "cell_type": "markdown",
      "source": [
        "# Modified RandomForest with Multi-objective Ensemble Model Selection (RF-MOEMS)"
      ],
      "metadata": {
        "id": "Xz7XlXQtIftw"
      }
    },
    {
      "cell_type": "code",
      "source": [
        "class MOEMS(Problem):\n",
        "\n",
        "    def __init__(self, y_all, y):\n",
        "        super().__init__(n_var=len(y_all), n_obj=2, xl=0.0, xu=1.0)\n",
        "        self.y_all = y_all\n",
        "        self.y = y\n",
        "\n",
        "    def _evaluate(self, x, out, *args, **kwargs):\n",
        "        errors = []\n",
        "        complexities = []\n",
        "        for xx in x:\n",
        "            x_bin = [1 if xi >= 0.5 else 0 for xi in xx]\n",
        "            if sum(x_bin) == 0:\n",
        "                errors.append(10)\n",
        "                complexities.append(10)\n",
        "                continue\n",
        "            y_out = [out for out, xb in zip(self.y_all, x_bin) if xb]\n",
        "            y_pred = pd.DataFrame(y_out).mode().to_numpy()[0,:]\n",
        "            complexity = 1 - sum(x_bin)/len(x_bin)\n",
        "            error = 1 - classification_report(self.y, y_pred, output_dict=True)['accuracy']\n",
        "            complexities.append(complexity)\n",
        "            errors.append(error)\n",
        "        out['F'] = np.column_stack([complexities, errors])"
      ],
      "metadata": {
        "id": "AO3DcEHeO0ty"
      },
      "execution_count": 89,
      "outputs": []
    },
    {
      "cell_type": "code",
      "source": [
        "class RFMOEMS():\n",
        "    def __init__(self, n_classifiers=100, optimization_set_ratio=0.2):\n",
        "        self.n_classifiers = n_classifiers\n",
        "        self.opt_ratio = optimization_set_ratio\n",
        "        self.rf = RandomForestClassifier(self.n_classifiers)\n",
        "        self.moems = [True for _ in range(n_classifiers)]\n",
        "\n",
        "    def _predict_all(self, X):\n",
        "        y_out = []\n",
        "        for i, dt in enumerate(self.rf.estimators_):\n",
        "            if not self.moems[i]:\n",
        "                continue\n",
        "            y_out.append(dt.predict(X))\n",
        "        return y_out\n",
        "\n",
        "    def _moo(self, X, y):\n",
        "        y_out_all = self._predict_all(X)\n",
        "        prob = MOEMS(y_out_all, y)\n",
        "        alg = NSGA2(pop_size=20, n_offprings=5, eliminate_duplicates=True)\n",
        "        termination = get_termination(\"n_gen\", 20)\n",
        "        return minimize(prob, alg, termination)\n",
        "\n",
        "    def _mcdm(self, res):\n",
        "        weights = np.array([0.2, 0.8])\n",
        "        decomp = ASF()\n",
        "        return decomp.do(res.F, 1/weights).argmin()\n",
        "\n",
        "    def _fit_moems(self, X, y):\n",
        "        pareto = self._moo(X, y)\n",
        "        best = self._mcdm(pareto)\n",
        "        self.moems = [x >= 0.5 for x in pareto.X[best]]\n",
        "\n",
        "    def fit(self, X, y):\n",
        "        X_rf, X_opt, y_rf, y_opt = train_test_split(X, y, test_size=self.opt_ratio)\n",
        "        self.rf.fit(X_rf, y_rf)\n",
        "        self._fit_moems(X_opt, y_opt)\n",
        "        return self\n",
        "\n",
        "    def predict(self, X):\n",
        "        y_out_all = self._predict_all(X)\n",
        "        return pd.DataFrame(y_out_all).mode().to_numpy()[0,:]"
      ],
      "metadata": {
        "id": "mkLhLFrKIfLU"
      },
      "execution_count": 96,
      "outputs": []
    },
    {
      "cell_type": "code",
      "source": [
        "y_pred = y.copy()\n",
        "\n",
        "for i, (train_index, test_index) in enumerate(KFold(n_splits=5, shuffle=True).split(X)):\n",
        "    X_train, y_train = X[train_index], y[train_index]\n",
        "    X_test = X[test_index]\n",
        "    mdl = RFMOEMS().fit(X_train, y_train)\n",
        "    y_pred[test_index] = mdl.predict(X_test)\n",
        "    print(f'Iteration {i+1} Done!')"
      ],
      "metadata": {
        "colab": {
          "base_uri": "https://localhost:8080/"
        },
        "id": "5n5oMbtALwn4",
        "outputId": "cfbeca5a-cf04-4422-8af1-6ef9d0243e31"
      },
      "execution_count": 97,
      "outputs": [
        {
          "output_type": "stream",
          "name": "stdout",
          "text": [
            "Iteration 1 Done!\n",
            "Iteration 2 Done!\n",
            "Iteration 3 Done!\n",
            "Iteration 4 Done!\n",
            "Iteration 5 Done!\n"
          ]
        }
      ]
    },
    {
      "cell_type": "code",
      "source": [
        "print(\n",
        "    classification_report(\n",
        "        y, y_pred\n",
        "    )\n",
        ")"
      ],
      "metadata": {
        "colab": {
          "base_uri": "https://localhost:8080/"
        },
        "id": "twDo94BwL2Wf",
        "outputId": "1c6a1bed-c577-4f94-b94e-7e67e3ebe4c1"
      },
      "execution_count": 99,
      "outputs": [
        {
          "output_type": "stream",
          "name": "stdout",
          "text": [
            "              precision    recall  f1-score   support\n",
            "\n",
            "         0.0       0.98      0.98      0.98       143\n",
            "         1.0       0.99      0.98      0.98       144\n",
            "         2.0       1.00      0.98      0.99       144\n",
            "         3.0       0.97      0.98      0.97       144\n",
            "         4.0       0.95      0.97      0.96       199\n",
            "         5.0       0.97      0.93      0.95       168\n",
            "         6.0       0.99      1.00      0.99       162\n",
            "         7.0       1.00      0.99      1.00       150\n",
            "         8.0       1.00      1.00      1.00       156\n",
            "         9.0       1.00      1.00      1.00       155\n",
            "        10.0       1.00      1.00      1.00       157\n",
            "        11.0       1.00      1.00      1.00       152\n",
            "        12.0       0.98      0.99      0.99       528\n",
            "\n",
            "    accuracy                           0.99      2402\n",
            "   macro avg       0.99      0.98      0.99      2402\n",
            "weighted avg       0.99      0.99      0.99      2402\n",
            "\n"
          ]
        }
      ]
    }
  ]
}