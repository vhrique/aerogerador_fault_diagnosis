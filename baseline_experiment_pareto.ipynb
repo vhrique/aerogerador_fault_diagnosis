{
  "nbformat": 4,
  "nbformat_minor": 0,
  "metadata": {
    "colab": {
      "provenance": [],
      "mount_file_id": "https://github.com/vhrique/aerogerador_fault_diagnosis/blob/main/baseline_experiment.ipynb",
      "authorship_tag": "ABX9TyP0AbAvLJWKtqI7VCmXo2Ri",
      "include_colab_link": true
    },
    "kernelspec": {
      "name": "python3",
      "display_name": "Python 3"
    },
    "language_info": {
      "name": "python"
    }
  },
  "cells": [
    {
      "cell_type": "markdown",
      "metadata": {
        "id": "view-in-github",
        "colab_type": "text"
      },
      "source": [
        "<a href=\"https://colab.research.google.com/github/vhrique/aerogerador_fault_diagnosis/blob/main/baseline_experiment_pareto.ipynb\" target=\"_parent\"><img src=\"https://colab.research.google.com/assets/colab-badge.svg\" alt=\"Open In Colab\"/></a>"
      ]
    },
    {
      "cell_type": "code",
      "source": [
        "!pip install pymoo"
      ],
      "metadata": {
        "colab": {
          "base_uri": "https://localhost:8080/"
        },
        "id": "wZ1FE-16HkGM",
        "outputId": "54252da1-dc84-4de5-e497-fcd06d688716"
      },
      "execution_count": 1,
      "outputs": [
        {
          "output_type": "stream",
          "name": "stdout",
          "text": [
            "Collecting pymoo\n",
            "  Downloading pymoo-0.6.1.3-cp310-cp310-manylinux_2_17_x86_64.manylinux2014_x86_64.whl.metadata (5.0 kB)\n",
            "Requirement already satisfied: numpy>=1.15 in /usr/local/lib/python3.10/dist-packages (from pymoo) (1.26.4)\n",
            "Requirement already satisfied: scipy>=1.1 in /usr/local/lib/python3.10/dist-packages (from pymoo) (1.13.1)\n",
            "Requirement already satisfied: matplotlib>=3 in /usr/local/lib/python3.10/dist-packages (from pymoo) (3.7.1)\n",
            "Requirement already satisfied: autograd>=1.4 in /usr/local/lib/python3.10/dist-packages (from pymoo) (1.6.2)\n",
            "Collecting cma==3.2.2 (from pymoo)\n",
            "  Downloading cma-3.2.2-py2.py3-none-any.whl.metadata (8.0 kB)\n",
            "Collecting alive-progress (from pymoo)\n",
            "  Downloading alive_progress-3.1.5-py3-none-any.whl.metadata (68 kB)\n",
            "\u001b[2K     \u001b[90m━━━━━━━━━━━━━━━━━━━━━━━━━━━━━━━━━━━━━━━━\u001b[0m \u001b[32m68.4/68.4 kB\u001b[0m \u001b[31m611.4 kB/s\u001b[0m eta \u001b[36m0:00:00\u001b[0m\n",
            "\u001b[?25hCollecting dill (from pymoo)\n",
            "  Downloading dill-0.3.8-py3-none-any.whl.metadata (10 kB)\n",
            "Collecting Deprecated (from pymoo)\n",
            "  Downloading Deprecated-1.2.14-py2.py3-none-any.whl.metadata (5.4 kB)\n",
            "Requirement already satisfied: future>=0.15.2 in /usr/local/lib/python3.10/dist-packages (from autograd>=1.4->pymoo) (1.0.0)\n",
            "Requirement already satisfied: contourpy>=1.0.1 in /usr/local/lib/python3.10/dist-packages (from matplotlib>=3->pymoo) (1.2.1)\n",
            "Requirement already satisfied: cycler>=0.10 in /usr/local/lib/python3.10/dist-packages (from matplotlib>=3->pymoo) (0.12.1)\n",
            "Requirement already satisfied: fonttools>=4.22.0 in /usr/local/lib/python3.10/dist-packages (from matplotlib>=3->pymoo) (4.53.1)\n",
            "Requirement already satisfied: kiwisolver>=1.0.1 in /usr/local/lib/python3.10/dist-packages (from matplotlib>=3->pymoo) (1.4.5)\n",
            "Requirement already satisfied: packaging>=20.0 in /usr/local/lib/python3.10/dist-packages (from matplotlib>=3->pymoo) (24.1)\n",
            "Requirement already satisfied: pillow>=6.2.0 in /usr/local/lib/python3.10/dist-packages (from matplotlib>=3->pymoo) (9.4.0)\n",
            "Requirement already satisfied: pyparsing>=2.3.1 in /usr/local/lib/python3.10/dist-packages (from matplotlib>=3->pymoo) (3.1.2)\n",
            "Requirement already satisfied: python-dateutil>=2.7 in /usr/local/lib/python3.10/dist-packages (from matplotlib>=3->pymoo) (2.8.2)\n",
            "Collecting about-time==4.2.1 (from alive-progress->pymoo)\n",
            "  Downloading about_time-4.2.1-py3-none-any.whl.metadata (13 kB)\n",
            "Collecting grapheme==0.6.0 (from alive-progress->pymoo)\n",
            "  Downloading grapheme-0.6.0.tar.gz (207 kB)\n",
            "\u001b[2K     \u001b[90m━━━━━━━━━━━━━━━━━━━━━━━━━━━━━━━━━━━━━━━━\u001b[0m \u001b[32m207.3/207.3 kB\u001b[0m \u001b[31m10.9 MB/s\u001b[0m eta \u001b[36m0:00:00\u001b[0m\n",
            "\u001b[?25h  Preparing metadata (setup.py) ... \u001b[?25l\u001b[?25hdone\n",
            "Requirement already satisfied: wrapt<2,>=1.10 in /usr/local/lib/python3.10/dist-packages (from Deprecated->pymoo) (1.16.0)\n",
            "Requirement already satisfied: six>=1.5 in /usr/local/lib/python3.10/dist-packages (from python-dateutil>=2.7->matplotlib>=3->pymoo) (1.16.0)\n",
            "Downloading pymoo-0.6.1.3-cp310-cp310-manylinux_2_17_x86_64.manylinux2014_x86_64.whl (4.2 MB)\n",
            "\u001b[2K   \u001b[90m━━━━━━━━━━━━━━━━━━━━━━━━━━━━━━━━━━━━━━━━\u001b[0m \u001b[32m4.2/4.2 MB\u001b[0m \u001b[31m42.8 MB/s\u001b[0m eta \u001b[36m0:00:00\u001b[0m\n",
            "\u001b[?25hDownloading cma-3.2.2-py2.py3-none-any.whl (249 kB)\n",
            "\u001b[2K   \u001b[90m━━━━━━━━━━━━━━━━━━━━━━━━━━━━━━━━━━━━━━━━\u001b[0m \u001b[32m249.1/249.1 kB\u001b[0m \u001b[31m13.1 MB/s\u001b[0m eta \u001b[36m0:00:00\u001b[0m\n",
            "\u001b[?25hDownloading alive_progress-3.1.5-py3-none-any.whl (75 kB)\n",
            "\u001b[2K   \u001b[90m━━━━━━━━━━━━━━━━━━━━━━━━━━━━━━━━━━━━━━━━\u001b[0m \u001b[32m76.0/76.0 kB\u001b[0m \u001b[31m4.2 MB/s\u001b[0m eta \u001b[36m0:00:00\u001b[0m\n",
            "\u001b[?25hDownloading about_time-4.2.1-py3-none-any.whl (13 kB)\n",
            "Downloading Deprecated-1.2.14-py2.py3-none-any.whl (9.6 kB)\n",
            "Downloading dill-0.3.8-py3-none-any.whl (116 kB)\n",
            "\u001b[2K   \u001b[90m━━━━━━━━━━━━━━━━━━━━━━━━━━━━━━━━━━━━━━━━\u001b[0m \u001b[32m116.3/116.3 kB\u001b[0m \u001b[31m3.8 MB/s\u001b[0m eta \u001b[36m0:00:00\u001b[0m\n",
            "\u001b[?25hBuilding wheels for collected packages: grapheme\n",
            "  Building wheel for grapheme (setup.py) ... \u001b[?25l\u001b[?25hdone\n",
            "  Created wheel for grapheme: filename=grapheme-0.6.0-py3-none-any.whl size=210082 sha256=a8592a50cfd521da90d031781e0f526b08ee486473bd05998ce0b0282bfccba8\n",
            "  Stored in directory: /root/.cache/pip/wheels/01/e1/49/37e6bde9886439057450c494a79b0bef8bbe897a54aebfc757\n",
            "Successfully built grapheme\n",
            "Installing collected packages: grapheme, dill, Deprecated, cma, about-time, alive-progress, pymoo\n",
            "Successfully installed Deprecated-1.2.14 about-time-4.2.1 alive-progress-3.1.5 cma-3.2.2 dill-0.3.8 grapheme-0.6.0 pymoo-0.6.1.3\n"
          ]
        }
      ]
    },
    {
      "cell_type": "code",
      "execution_count": 64,
      "metadata": {
        "id": "yGbdNYqiU1oH"
      },
      "outputs": [],
      "source": [
        "import matplotlib.pyplot as plt\n",
        "import numpy as np\n",
        "import pandas as pd\n",
        "\n",
        "from pymoo.algorithms.moo.nsga2 import NSGA2\n",
        "from pymoo.algorithms.moo.nsga3 import NSGA3\n",
        "from pymoo.core.problem import Problem\n",
        "from pymoo.decomposition.asf import ASF\n",
        "from pymoo.optimize import minimize\n",
        "from pymoo.termination import get_termination\n",
        "from pymoo.util.ref_dirs import get_reference_directions\n",
        "\n",
        "from sklearn.decomposition import PCA\n",
        "from sklearn.ensemble import RandomForestClassifier\n",
        "from sklearn.metrics import classification_report\n",
        "from sklearn.model_selection import KFold, train_test_split\n",
        "from sklearn.preprocessing import OrdinalEncoder"
      ]
    },
    {
      "cell_type": "markdown",
      "source": [
        "# Load Data"
      ],
      "metadata": {
        "id": "3IFkx6VMIQ1U"
      }
    },
    {
      "cell_type": "code",
      "source": [
        "# Copy the files to your Google Drive and set your paths here\n",
        "df_features = pd.read_csv('/content/drive/MyDrive/Estudos/Datasets/pas_aerogerador_helon/X10.csv', header=None)\n",
        "df_labels = pd.read_csv('/content/drive/MyDrive/Estudos/Datasets/pas_aerogerador_helon/y_case2.csv', header=None)"
      ],
      "metadata": {
        "id": "pHKkCt-dVbP3"
      },
      "execution_count": 4,
      "outputs": []
    },
    {
      "cell_type": "code",
      "source": [
        "X = df_features.to_numpy()\n",
        "y = df_labels.to_numpy().squeeze()"
      ],
      "metadata": {
        "id": "qDVog3ZBm6fY"
      },
      "execution_count": 5,
      "outputs": []
    },
    {
      "cell_type": "code",
      "source": [
        "X_train, X_test, y_train, y_test = train_test_split(X, y, test_size=0.5, shuffle=True)"
      ],
      "metadata": {
        "id": "_91oVmV5tgR7"
      },
      "execution_count": 119,
      "outputs": []
    },
    {
      "cell_type": "markdown",
      "source": [
        "# RandomForest Experiment"
      ],
      "metadata": {
        "id": "ElUONEngIVa9"
      }
    },
    {
      "cell_type": "code",
      "source": [
        "mdl = RandomForestClassifier(max_samples=0.5).fit(X_train, y_train)\n",
        "y_pred = mdl.predict(X_test)\n",
        ""
      ],
      "metadata": {
        "id": "R6VAOAwQm1ph"
      },
      "execution_count": 120,
      "outputs": []
    },
    {
      "cell_type": "code",
      "source": [
        "print(\n",
        "    classification_report(\n",
        "        y_test, y_pred\n",
        "    )\n",
        ")"
      ],
      "metadata": {
        "colab": {
          "base_uri": "https://localhost:8080/"
        },
        "id": "I5XR_VAMnRoS",
        "outputId": "9f11615f-d142-4f20-a35a-d2e90483acea"
      },
      "execution_count": 121,
      "outputs": [
        {
          "output_type": "stream",
          "name": "stdout",
          "text": [
            "              precision    recall  f1-score   support\n",
            "\n",
            "         0.0       1.00      0.99      0.99        78\n",
            "         1.0       1.00      0.98      0.99        66\n",
            "         2.0       1.00      0.99      0.99        70\n",
            "         3.0       0.95      0.99      0.97        70\n",
            "         4.0       1.00      0.87      0.93       103\n",
            "         5.0       0.84      0.96      0.89        71\n",
            "         6.0       0.99      1.00      0.99        83\n",
            "         7.0       1.00      0.99      0.99        76\n",
            "         8.0       0.99      1.00      0.99        76\n",
            "         9.0       1.00      1.00      1.00        66\n",
            "        10.0       0.95      1.00      0.97        75\n",
            "        11.0       1.00      0.96      0.98        90\n",
            "        12.0       0.99      0.99      0.99       277\n",
            "\n",
            "    accuracy                           0.98      1201\n",
            "   macro avg       0.98      0.98      0.98      1201\n",
            "weighted avg       0.98      0.98      0.98      1201\n",
            "\n"
          ]
        }
      ]
    },
    {
      "cell_type": "markdown",
      "source": [
        "# Modified RandomForest with Multi-objective Ensemble Model Selection (RF-MOEMS)"
      ],
      "metadata": {
        "id": "Xz7XlXQtIftw"
      }
    },
    {
      "cell_type": "code",
      "source": [
        "class MOEMS(Problem):\n",
        "\n",
        "    def __init__(self, y_all, y):\n",
        "        super().__init__(n_var=len(y_all), n_obj=2, xl=0.0, xu=1.0)\n",
        "        self.y_all = y_all\n",
        "        self.y = y\n",
        "\n",
        "    def _evaluate(self, x, out, *args, **kwargs):\n",
        "        errors = []\n",
        "        complexities = []\n",
        "        for xx in x:\n",
        "            x_bin = [1 if xi >= 0.5 else 0 for xi in xx]\n",
        "            if sum(x_bin) == 0:\n",
        "                errors.append(10)\n",
        "                complexities.append(10)\n",
        "                continue\n",
        "            y_out = [out for out, xb in zip(self.y_all, x_bin) if xb]\n",
        "            y_pred = pd.DataFrame(y_out).mode().to_numpy()[0,:]\n",
        "            complexity = sum(x_bin)/len(x_bin)\n",
        "            error = 1 - classification_report(self.y, y_pred, output_dict=True)['accuracy']\n",
        "            complexities.append(complexity)\n",
        "            errors.append(error)\n",
        "        out['F'] = np.column_stack([complexities, errors])\n",
        "\n",
        "    def get_pareto_front(self, X):\n",
        "        out = {}\n",
        "        self._evaluate(X, out)\n",
        "        return out['F']"
      ],
      "metadata": {
        "id": "AO3DcEHeO0ty"
      },
      "execution_count": 122,
      "outputs": []
    },
    {
      "cell_type": "code",
      "source": [
        "class RFMOEMS():\n",
        "    def __init__(self, n_classifiers=100, optimization_set_ratio=0.2):\n",
        "        self.n_classifiers = n_classifiers\n",
        "        self.opt_ratio = optimization_set_ratio\n",
        "        self.rf = RandomForestClassifier(self.n_classifiers, max_samples=0.5)\n",
        "        self.moems = [[True for _ in range(n_classifiers)]]\n",
        "        self.selected = 0\n",
        "\n",
        "    def predict_all(self, X):\n",
        "        y_out = []\n",
        "        for i, dt in enumerate(self.rf.estimators_):\n",
        "            y_out.append(dt.predict(X))\n",
        "        return y_out\n",
        "\n",
        "    def _moo(self, X, y):\n",
        "        y_out_all = self.predict_all(X)\n",
        "        prob = MOEMS(y_out_all, y)\n",
        "        # alg = NSGA2(pop_size=20, n_offprings=5, eliminate_duplicates=True)\n",
        "        alg = NSGA3(pop_size=20, ref_dirs=get_reference_directions(\"uniform\", 2, n_partitions=10))\n",
        "        termination = get_termination(\"n_gen\", 20)\n",
        "        return minimize(prob, alg, termination, verbose=True)\n",
        "\n",
        "    def _mcdm(self, res):\n",
        "        weights = np.array([0.2, 0.8])\n",
        "        decomp = ASF()\n",
        "        return decomp.do(res.F, 1/weights).argmin()\n",
        "\n",
        "    def _fit_moems(self, X, y):\n",
        "        pareto = self._moo(X, y)\n",
        "        self.moems = [[v >= 0.5 for v in x] for x in pareto.X]\n",
        "        self.selected = self._mcdm(pareto)\n",
        "\n",
        "    def fit(self, X, y):\n",
        "        X_rf, X_opt, y_rf, y_opt = train_test_split(X, y, test_size=self.opt_ratio, shuffle=True)\n",
        "        self.rf.fit(X_rf, y_rf)\n",
        "        self._fit_moems(X_opt, y_opt)\n",
        "        return self\n",
        "\n",
        "    def _predict_moems(self, X, selected):\n",
        "        y_out = []\n",
        "        for i, dt in enumerate(self.rf.estimators_):\n",
        "            if not self.moems[selected][i]:\n",
        "                continue\n",
        "            y_out.append(dt.predict(X))\n",
        "        return y_out\n",
        "\n",
        "    def get_number_solutions(self):\n",
        "        return len(self.moems)\n",
        "\n",
        "    def get_selected_solution(self):\n",
        "        return self.selected\n",
        "\n",
        "    def predict_selected(self, X, selected):\n",
        "        y_out_all = self._predict_moems(X, selected)\n",
        "        return pd.DataFrame(y_out_all).mode().to_numpy()[0,:]\n",
        "\n",
        "    def predict(self, X):\n",
        "        return self.predict_selected(X, self.selected)"
      ],
      "metadata": {
        "id": "mkLhLFrKIfLU"
      },
      "execution_count": 129,
      "outputs": []
    },
    {
      "cell_type": "code",
      "source": [
        "mdl = RFMOEMS().fit(X_train, y_train)\n",
        "y_pred = mdl.predict(X_test)"
      ],
      "metadata": {
        "colab": {
          "base_uri": "https://localhost:8080/"
        },
        "id": "5n5oMbtALwn4",
        "outputId": "1cde5fae-8043-4728-ea7f-671d077c59a1"
      },
      "execution_count": 130,
      "outputs": [
        {
          "output_type": "stream",
          "name": "stdout",
          "text": [
            "==========================================================\n",
            "n_gen  |  n_eval  | n_nds  |      eps      |   indicator  \n",
            "==========================================================\n",
            "     1 |       20 |      1 |             - |             -\n",
            "     2 |       40 |      2 |  1.0000000000 |         ideal\n",
            "     3 |       60 |      4 |  0.2500000000 |         ideal\n",
            "     4 |       80 |      2 |  1.0000000000 |         ideal\n",
            "     5 |      100 |      3 |  0.2500000000 |         ideal\n",
            "     6 |      120 |      3 |  1.0000000000 |         ideal\n",
            "     7 |      140 |      3 |  0.4000000000 |         ideal\n",
            "     8 |      160 |      2 |  2.0000000000 |         nadir\n",
            "     9 |      180 |      3 |  0.1666666667 |         ideal\n",
            "    10 |      200 |      5 |  0.2000000000 |         ideal\n",
            "    11 |      220 |      3 |  0.2000000000 |         nadir\n",
            "    12 |      240 |      3 |  0.3333333333 |         ideal\n",
            "    13 |      260 |      3 |  0.1176470588 |         ideal\n",
            "    14 |      280 |      3 |  0.5000000000 |         nadir\n",
            "    15 |      300 |      4 |  1.1250000000 |         nadir\n",
            "    16 |      320 |      3 |  0.5000000000 |         nadir\n",
            "    17 |      340 |      3 |  0.3333333333 |         ideal\n",
            "    18 |      360 |      2 |  0.2500000000 |         ideal\n",
            "    19 |      380 |      2 |  0.3333333333 |         ideal\n",
            "    20 |      400 |      2 |  0.6000000000 |         nadir\n"
          ]
        }
      ]
    },
    {
      "cell_type": "code",
      "source": [
        "print(\n",
        "    classification_report(\n",
        "        y_test, y_pred\n",
        "    )\n",
        ")"
      ],
      "metadata": {
        "colab": {
          "base_uri": "https://localhost:8080/"
        },
        "id": "twDo94BwL2Wf",
        "outputId": "ce612425-c592-4f4f-f316-1683ed4d554f"
      },
      "execution_count": 135,
      "outputs": [
        {
          "output_type": "stream",
          "name": "stdout",
          "text": [
            "              precision    recall  f1-score   support\n",
            "\n",
            "         0.0       0.95      0.97      0.96        78\n",
            "         1.0       0.93      0.95      0.94        66\n",
            "         2.0       1.00      0.90      0.95        70\n",
            "         3.0       0.91      0.96      0.93        70\n",
            "         4.0       0.95      0.89      0.92       103\n",
            "         5.0       0.81      0.90      0.85        71\n",
            "         6.0       0.92      1.00      0.96        83\n",
            "         7.0       0.93      0.86      0.89        76\n",
            "         8.0       0.97      0.99      0.98        76\n",
            "         9.0       0.98      0.98      0.98        66\n",
            "        10.0       0.99      0.95      0.97        75\n",
            "        11.0       1.00      0.99      0.99        90\n",
            "        12.0       0.99      0.98      0.98       277\n",
            "\n",
            "    accuracy                           0.95      1201\n",
            "   macro avg       0.95      0.95      0.95      1201\n",
            "weighted avg       0.95      0.95      0.95      1201\n",
            "\n"
          ]
        }
      ]
    },
    {
      "cell_type": "code",
      "source": [
        "problem = MOEMS(mdl.predict_all(X_test), y_test)"
      ],
      "metadata": {
        "id": "j2EURwiXyJLB"
      },
      "execution_count": 136,
      "outputs": []
    },
    {
      "cell_type": "code",
      "source": [
        "decision_space = mdl.moems\n",
        "pareto_front = problem.get_pareto_front(decision_space)"
      ],
      "metadata": {
        "id": "rky_NgauyO1j"
      },
      "execution_count": 137,
      "outputs": []
    },
    {
      "cell_type": "code",
      "source": [
        "fig, axs = plt.subplots(1,2, figsize=(15,5))\n",
        "\n",
        "X_2d = PCA(n_components=2).fit_transform(np.array(decision_space))\n",
        "\n",
        "for i in range(len(pareto_front)):\n",
        "    axs[0].scatter(pareto_front[i,0], pareto_front[i,1])\n",
        "    axs[1].scatter(X_2d[i,0], X_2d[i,1])\n",
        "\n",
        "axs[0].set_title('Pareto Front')\n",
        "axs[0].set_xlabel('Complexity')\n",
        "axs[0].set_ylabel('Error')\n",
        "axs[1].set_title('Decision Space (PCA)')\n",
        "axs[1].set_xlabel('PCA1')\n",
        "axs[1].set_ylabel('PAC2')\n",
        "plt.show()"
      ],
      "metadata": {
        "colab": {
          "base_uri": "https://localhost:8080/",
          "height": 371
        },
        "id": "SPTMnD_EycIr",
        "outputId": "08d723ba-0fcf-41e6-a776-2d200e404995"
      },
      "execution_count": 138,
      "outputs": [
        {
          "output_type": "display_data",
          "data": {
            "text/plain": [
              "<Figure size 1500x500 with 2 Axes>"
            ],
            "image/png": "[encoded data removed]"
          },
          "metadata": {}
        }
      ]
    },
    {
      "cell_type": "code",
      "source": [],
      "metadata": {
        "id": "kfR_gTgn-Fgl"
      },
      "execution_count": null,
      "outputs": []
    }
  ]
}